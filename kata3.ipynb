{
 "cells": [
  {
   "cell_type": "code",
   "execution_count": 5,
   "metadata": {},
   "outputs": [
    {
     "name": "stdout",
     "output_type": "stream",
     "text": [
      "Un asteroide se acerca, ten cuidado\n"
     ]
    }
   ],
   "source": [
    "asteriode = 18\n",
    "if asteriode > 25:\n",
    "    print (\"Un asteroide se acerca, ten cuidado\")\n",
    "else:\n",
    "    print (\"no hay peligro, puedes reanudar tus actividades\")"
   ]
  },
  {
   "cell_type": "code",
   "execution_count": 6,
   "metadata": {},
   "outputs": [
    {
     "name": "stdout",
     "output_type": "stream",
     "text": [
      "¡Falsa alarma Homie!\n"
     ]
    }
   ],
   "source": [
    "asteroide = 20\n",
    "if asteroide > 20:\n",
    "    print('¡wacha ariba Homie! ¡Un asteroide en el cielo!')\n",
    "elif asteroide == 45:\n",
    "    print('¡wacha arriba Homie, nos van a dar un levanton!')\n",
    "else:\n",
    "    print('¡Falsa alarma Homie!')"
   ]
  },
  {
   "cell_type": "code",
   "execution_count": 8,
   "metadata": {},
   "outputs": [
    {
     "name": "stdout",
     "output_type": "stream",
     "text": [
      "Peligro inminente, un asteroide peligroso se acerca\n"
     ]
    }
   ],
   "source": [
    "vel_aste = 80 \n",
    "tam_aste = 200\n",
    "if vel_aste > 25 and tam_aste > 25:\n",
    "    print('Peligro inminente, un asteroide peligroso se acerca')\n",
    "elif vel_aste >= 20:\n",
    "    print('wacha arriba Homie, hay un fogón')\n",
    "elif tam_aste < 25:\n",
    "    print('no hay nada Homie')\n",
    "else:\n",
    "    print('¿Que wachas Homie?')"
   ]
  }
 ],
 "metadata": {
  "interpreter": {
   "hash": "d26c63a4a62592a1c371498d16fb7d666cf4335760bec824493cf721005a3962"
  },
  "kernelspec": {
   "display_name": "Python 3.10.2 64-bit",
   "language": "python",
   "name": "python3"
  },
  "language_info": {
   "codemirror_mode": {
    "name": "ipython",
    "version": 3
   },
   "file_extension": ".py",
   "mimetype": "text/x-python",
   "name": "python",
   "nbconvert_exporter": "python",
   "pygments_lexer": "ipython3",
   "version": "3.10.2"
  },
  "orig_nbformat": 4
 },
 "nbformat": 4,
 "nbformat_minor": 2
}
