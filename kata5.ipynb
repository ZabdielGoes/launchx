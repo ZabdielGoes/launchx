{
 "cells": [
  {
   "cell_type": "code",
   "execution_count": 42,
   "metadata": {},
   "outputs": [
    {
     "name": "stdout",
     "output_type": "stream",
     "text": [
      "distancia en km -71743150\n",
      "Distancia en millas -44552496.15\n"
     ]
    }
   ],
   "source": [
    "first_planet = 149597870\n",
    "second_planet = 77854720\n",
    "distance_km = second_planet - first_planet\n",
    "print(\"distancia en km \" + str(distance_km))\n",
    "distance_mi = distance_km * 0.621\n",
    "print(\"Distancia en millas \"+ str(distance_mi))"
   ]
  },
  {
   "cell_type": "markdown",
   "metadata": {},
   "source": [
    "PT 2"
   ]
  },
  {
   "cell_type": "code",
   "execution_count": 43,
   "metadata": {},
   "outputs": [
    {
     "name": "stdout",
     "output_type": "stream",
     "text": [
      "Distancia en km 111111\n",
      "Distancia en millas 68999.931\n"
     ]
    }
   ],
   "source": [
    "first_planet = input('Introduzca la distancia del sol para el primer planeta en KM')\n",
    "second_planet = input('Introduzca la distancia desde el sol para el segundo planeta en KM')\n",
    "first_planet = int(first_planet)\n",
    "second_planet = int(second_planet)\n",
    "distance_km = second_planet - first_planet\n",
    "print (\"Distancia en km \" + str(distance_km))\n",
    "distance_mi = distance_km * 0.621\n",
    "print (\"Distancia en millas \" + str(abs(distance_mi)))\n"
   ]
  }
 ],
 "metadata": {
  "interpreter": {
   "hash": "d26c63a4a62592a1c371498d16fb7d666cf4335760bec824493cf721005a3962"
  },
  "kernelspec": {
   "display_name": "Python 3.10.2 64-bit",
   "language": "python",
   "name": "python3"
  },
  "language_info": {
   "codemirror_mode": {
    "name": "ipython",
    "version": 3
   },
   "file_extension": ".py",
   "mimetype": "text/x-python",
   "name": "python",
   "nbconvert_exporter": "python",
   "pygments_lexer": "ipython3",
   "version": "3.10.2"
  },
  "orig_nbformat": 4
 },
 "nbformat": 4,
 "nbformat_minor": 2
}
