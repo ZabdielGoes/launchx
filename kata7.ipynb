{
 "cells": [
  {
   "cell_type": "code",
   "execution_count": 43,
   "metadata": {},
   "outputs": [
    {
     "name": "stdout",
     "output_type": "stream",
     "text": [
      "marte\n",
      "jupiter\n",
      "venis\n",
      "asombroso\n",
      "hasta ahora has proporcionado 4 datos\n"
     ]
    }
   ],
   "source": [
    "new_planet = \"\"\n",
    "planets = []\n",
    "while new_planet.lower() != 'fin' :\n",
    "    if new_planet:\n",
    "        planets.append(new_planet)\n",
    "    new_planet = input('introduce un nuevo planeta. Fin para cuando acabes')\n",
    "for planet in planets:\n",
    "        print (planet)\n",
    "if new_planet == \"fin\":\n",
    "        num_plan = len(planets)\n",
    "        print (\"hasta ahora has proporcionado\", num_plan, \"datos\") "
   ]
  }
 ],
 "metadata": {
  "interpreter": {
   "hash": "d26c63a4a62592a1c371498d16fb7d666cf4335760bec824493cf721005a3962"
  },
  "kernelspec": {
   "display_name": "Python 3.10.2 64-bit",
   "language": "python",
   "name": "python3"
  },
  "language_info": {
   "codemirror_mode": {
    "name": "ipython",
    "version": 3
   },
   "file_extension": ".py",
   "mimetype": "text/x-python",
   "name": "python",
   "nbconvert_exporter": "python",
   "pygments_lexer": "ipython3",
   "version": "3.10.2"
  },
  "orig_nbformat": 4
 },
 "nbformat": 4,
 "nbformat_minor": 2
}
