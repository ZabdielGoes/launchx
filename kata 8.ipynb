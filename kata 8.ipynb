{
 "cells": [
  {
   "cell_type": "code",
   "execution_count": 15,
   "metadata": {},
   "outputs": [
    {
     "name": "stdout",
     "output_type": "stream",
     "text": [
      "Mars tiene una circunferencia polar de 6752\n"
     ]
    }
   ],
   "source": [
    "planet = {\n",
    "    'name': 'Marte',\n",
    "'moons': 2\n",
    " }\n",
    "planet.update({\n",
    "    'polar': 6752,\n",
    "    'equatorial': 6792\n",
    "})\n",
    "\n",
    "print (f'{planet[\"name\"]} tiene una circunferencia polar de {planet[\"polar\"]}')"
   ]
  },
  {
   "cell_type": "markdown",
   "metadata": {},
   "source": [
    "PT 2"
   ]
  },
  {
   "cell_type": "code",
   "execution_count": 42,
   "metadata": {},
   "outputs": [
    {
     "name": "stdout",
     "output_type": "stream",
     "text": [
      "Promedio de lunas en mercury es de 0\n",
      "Promedio de lunas en venus es de 0\n",
      "Promedio de lunas en earth es de 0\n",
      "Promedio de lunas en mars es de 0\n",
      "Promedio de lunas en jupiter es de 7\n",
      "Promedio de lunas en saturn es de 14\n",
      "Promedio de lunas en uranus es de 16\n",
      "Promedio de lunas en neptune es de 17\n",
      "Promedio de lunas en pluto es de 18\n",
      "Promedio de lunas en haumea es de 18\n",
      "Promedio de lunas en makemake es de 18\n",
      "Promedio de lunas en eris es de 18\n"
     ]
    }
   ],
   "source": [
    "planet_moons = {\n",
    "    'mercury': 0,\n",
    "    'venus': 0,\n",
    "    'earth': 1,\n",
    "    'mars': 2,\n",
    "    'jupiter': 79,\n",
    "    'saturn': 82,\n",
    "    'uranus': 27,\n",
    "    'neptune': 14,\n",
    "    'pluto': 5,\n",
    "    'haumea': 2,\n",
    "    'makemake': 1,\n",
    "    'eris': 1\n",
    "}\n",
    "moons = planet_moons.values()\n",
    "planets = len(planet_moons.keys())\n",
    "total_moons = 0\n",
    "nombre = []\n",
    "for y in planet_moons.keys(): \n",
    "    nombre.append(y) \n",
    " \n",
    "c = 0 \n",
    "for moon in moons: \n",
    "    total_moons = total_moons + moon \n",
    "    average = total_moons / planets \n",
    "    print(f\"Promedio de lunas en {nombre[c]} es de {round(average)}\") \n",
    "    c += 1\n",
    "    "
   ]
  }
 ],
 "metadata": {
  "interpreter": {
   "hash": "d26c63a4a62592a1c371498d16fb7d666cf4335760bec824493cf721005a3962"
  },
  "kernelspec": {
   "display_name": "Python 3.10.2 64-bit",
   "language": "python",
   "name": "python3"
  },
  "language_info": {
   "codemirror_mode": {
    "name": "ipython",
    "version": 3
   },
   "file_extension": ".py",
   "mimetype": "text/x-python",
   "name": "python",
   "nbconvert_exporter": "python",
   "pygments_lexer": "ipython3",
   "version": "3.10.2"
  },
  "orig_nbformat": 4
 },
 "nbformat": 4,
 "nbformat_minor": 2
}
